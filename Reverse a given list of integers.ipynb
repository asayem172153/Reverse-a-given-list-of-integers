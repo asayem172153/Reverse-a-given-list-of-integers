{
  "nbformat": 4,
  "nbformat_minor": 0,
  "metadata": {
    "colab": {
      "provenance": []
    },
    "kernelspec": {
      "name": "python3",
      "display_name": "Python 3"
    },
    "language_info": {
      "name": "python"
    }
  },
  "cells": [
    {
      "cell_type": "markdown",
      "source": [
        "**General Approach**"
      ],
      "metadata": {
        "id": "K_37tTI7UbKo"
      }
    },
    {
      "cell_type": "code",
      "execution_count": 4,
      "metadata": {
        "colab": {
          "base_uri": "https://localhost:8080/"
        },
        "id": "jVUvHq8AUVZ2",
        "outputId": "2fa64ed9-fbac-49d6-b89a-135d23c0ea1d"
      },
      "outputs": [
        {
          "output_type": "stream",
          "name": "stdout",
          "text": [
            "[5, 4, 3, 2, 1]\n"
          ]
        }
      ],
      "source": [
        "lst = [1, 2, 3, 4, 5]\n",
        "rev_lst = []\n",
        "length = len(lst)\n",
        "\n",
        "for i in range(length-1,-1,-1):\n",
        "  rev_lst.append(lst[i])\n",
        "\n",
        "print(rev_lst)"
      ]
    },
    {
      "cell_type": "markdown",
      "source": [
        "using **reverse()** function"
      ],
      "metadata": {
        "id": "ZvfvsuSOVe0h"
      }
    },
    {
      "cell_type": "code",
      "source": [
        "lst = [1, 2, 3, 4, 5]\n",
        "lst.reverse()\n",
        "\n",
        "print(lst)"
      ],
      "metadata": {
        "colab": {
          "base_uri": "https://localhost:8080/"
        },
        "id": "92vz62-LWG3w",
        "outputId": "3104a693-a878-4f5f-c48c-89c9be5a992f"
      },
      "execution_count": 8,
      "outputs": [
        {
          "output_type": "stream",
          "name": "stdout",
          "text": [
            "[5, 4, 3, 2, 1]\n"
          ]
        }
      ]
    },
    {
      "cell_type": "markdown",
      "source": [
        "**Another way to reverse**"
      ],
      "metadata": {
        "id": "8Tx8yLzIWQ8E"
      }
    },
    {
      "cell_type": "code",
      "source": [
        "lst = [1, 2, 3, 4, 5]\n",
        "rev = lst[::-1]\n",
        "\n",
        "print(rev)"
      ],
      "metadata": {
        "colab": {
          "base_uri": "https://localhost:8080/"
        },
        "id": "7ZnRd7QRWjzZ",
        "outputId": "c412ecfa-f733-4208-a2f6-24f60d53644c"
      },
      "execution_count": 10,
      "outputs": [
        {
          "output_type": "stream",
          "name": "stdout",
          "text": [
            "[5, 4, 3, 2, 1]\n"
          ]
        }
      ]
    }
  ]
}